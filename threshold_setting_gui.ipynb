{
 "cells": [
  {
   "cell_type": "code",
   "execution_count": null,
   "id": "04f3d23e",
   "metadata": {},
   "outputs": [
    {
     "name": "stdout",
     "output_type": "stream",
     "text": [
      "New threshold set to 78.6\n",
      "New threshold set to 78.6\n",
      "New threshold set to 19.6\n",
      "New threshold set to 53.6\n"
     ]
    }
   ],
   "source": [
    "import tkinter as tk\n",
    "\n",
    "class App:\n",
    "    def __init__(self):\n",
    "        self.threshold = 50.0\n",
    "        \n",
    "        # Create a main window\n",
    "        self.root = tk.Tk()\n",
    "        self.root.geometry('300x150')\n",
    "        self.root.title('Threshold Setting')\n",
    "        \n",
    "        # Create a label for the slider\n",
    "        self.label = tk.Label(self.root, text=\"Threshold:\")\n",
    "        self.label.pack()\n",
    "        \n",
    "        # Create a horizontal slider widget\n",
    "        self.slider = tk.Scale(self.root, from_=0, to=100, orient=\"horizontal\", resolution=0.1, length=200, command=self.update_threshold)\n",
    "        self.slider.set(self.threshold)\n",
    "        self.slider.pack()\n",
    "        \n",
    "        # Create a button to set the threshold value\n",
    "        self.button = tk.Button(self.root, text=\"Set\", command=self.set_threshold)\n",
    "        self.button.pack()\n",
    "        \n",
    "        # Run the main loop\n",
    "        self.root.mainloop()\n",
    "        \n",
    "    def update_threshold(self, val):\n",
    "        self.threshold = float(val)\n",
    "        \n",
    "    def set_threshold(self):\n",
    "        print(f\"New threshold set to {self.threshold}\")\n",
    "        \n",
    "# Run the application\n",
    "app = App()\n"
   ]
  },
  {
   "cell_type": "code",
   "execution_count": null,
   "id": "552d4dcd",
   "metadata": {},
   "outputs": [],
   "source": []
  }
 ],
 "metadata": {
  "kernelspec": {
   "display_name": "Python 3 (ipykernel)",
   "language": "python",
   "name": "python3"
  },
  "language_info": {
   "codemirror_mode": {
    "name": "ipython",
    "version": 3
   },
   "file_extension": ".py",
   "mimetype": "text/x-python",
   "name": "python",
   "nbconvert_exporter": "python",
   "pygments_lexer": "ipython3",
   "version": "3.10.10"
  }
 },
 "nbformat": 4,
 "nbformat_minor": 5
}
